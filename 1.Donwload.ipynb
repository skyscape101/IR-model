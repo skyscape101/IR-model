{
 "cells": [
  {
   "cell_type": "code",
   "execution_count": 1,
   "id": "a5f2b278-1258-432c-b1de-6013eebf57b9",
   "metadata": {},
   "outputs": [],
   "source": [
    "import requests\n",
    "from bs4 import BeautifulSoup\n",
    "import os"
   ]
  },
  {
   "cell_type": "code",
   "execution_count": 2,
   "id": "01786c1e-bdd5-4f7e-be0f-2bb1fecaec9c",
   "metadata": {},
   "outputs": [],
   "source": [
    "url = \"https://dmice.ohsu.edu/trec-gen/data/2006/documents/\"\n",
    "\n",
    "# Send a GET request to the URL\n",
    "response = requests.get(url)\n",
    "\n",
    "# Parse the HTML content of the response\n",
    "soup = BeautifulSoup(response.content, \"html.parser\")\n",
    "\n",
    "# Find all links in the HTML content\n",
    "links = soup.find_all(\"a\")"
   ]
  },
  {
   "cell_type": "code",
   "execution_count": 4,
   "id": "0329c99b-8ece-4db2-bc32-9a03c49d2a0f",
   "metadata": {},
   "outputs": [
    {
     "name": "stdout",
     "output_type": "stream",
     "text": [
      "Downloading https://dmice.ohsu.edu/trec-gen/data/2006/documents/ajepidem.zip...\n",
      "Downloading https://dmice.ohsu.edu/trec-gen/data/2006/documents/ajpcell.zip...\n",
      "Downloading https://dmice.ohsu.edu/trec-gen/data/2006/documents/ajpendometa.zip...\n",
      "Downloading https://dmice.ohsu.edu/trec-gen/data/2006/documents/ajpgastro.zip...\n",
      "Downloading https://dmice.ohsu.edu/trec-gen/data/2006/documents/ajpheart.zip...\n",
      "Downloading https://dmice.ohsu.edu/trec-gen/data/2006/documents/ajplung.zip...\n",
      "Downloading https://dmice.ohsu.edu/trec-gen/data/2006/documents/ajprenal.zip...\n",
      "Downloading https://dmice.ohsu.edu/trec-gen/data/2006/documents/alcohol.zip...\n",
      "Downloading https://dmice.ohsu.edu/trec-gen/data/2006/documents/andrology.zip...\n",
      "Downloading https://dmice.ohsu.edu/trec-gen/data/2006/documents/annonc.zip...\n",
      "Downloading https://dmice.ohsu.edu/trec-gen/data/2006/documents/bjanast.zip...\n",
      "Downloading https://dmice.ohsu.edu/trec-gen/data/2006/documents/bjp.zip...\n",
      "Downloading https://dmice.ohsu.edu/trec-gen/data/2006/documents/blood.zip...\n",
      "Downloading https://dmice.ohsu.edu/trec-gen/data/2006/documents/carcinogenesis.zip...\n",
      "Downloading https://dmice.ohsu.edu/trec-gen/data/2006/documents/cercor.zip...\n",
      "Downloading https://dmice.ohsu.edu/trec-gen/data/2006/documents/development.zip...\n",
      "Downloading https://dmice.ohsu.edu/trec-gen/data/2006/documents/diabetes.zip...\n",
      "Downloading https://dmice.ohsu.edu/trec-gen/data/2006/documents/endocrinology.zip...\n",
      "Downloading https://dmice.ohsu.edu/trec-gen/data/2006/documents/euroheartj.zip...\n",
      "Downloading https://dmice.ohsu.edu/trec-gen/data/2006/documents/glycobiology.zip...\n",
      "Downloading https://dmice.ohsu.edu/trec-gen/data/2006/documents/humanrep.zip...\n",
      "Downloading https://dmice.ohsu.edu/trec-gen/data/2006/documents/humolgen.zip...\n",
      "Downloading https://dmice.ohsu.edu/trec-gen/data/2006/documents/ijepidem.zip...\n",
      "Downloading https://dmice.ohsu.edu/trec-gen/data/2006/documents/intimm.zip...\n",
      "Downloading https://dmice.ohsu.edu/trec-gen/data/2006/documents/jantichemo.zip...\n",
      "Downloading https://dmice.ohsu.edu/trec-gen/data/2006/documents/jappliedphysio.zip...\n",
      "Downloading https://dmice.ohsu.edu/trec-gen/data/2006/documents/jbc-1995.zip...\n",
      "Downloading https://dmice.ohsu.edu/trec-gen/data/2006/documents/jbc-1996.zip...\n",
      "Downloading https://dmice.ohsu.edu/trec-gen/data/2006/documents/jbc-1997.zip...\n",
      "Downloading https://dmice.ohsu.edu/trec-gen/data/2006/documents/jbc-1998.zip...\n",
      "Downloading https://dmice.ohsu.edu/trec-gen/data/2006/documents/jbc-1999.zip...\n",
      "Downloading https://dmice.ohsu.edu/trec-gen/data/2006/documents/jbc-2000.zip...\n",
      "Downloading https://dmice.ohsu.edu/trec-gen/data/2006/documents/jbc-2001.zip...\n",
      "Downloading https://dmice.ohsu.edu/trec-gen/data/2006/documents/jbc-2002.zip...\n",
      "Downloading https://dmice.ohsu.edu/trec-gen/data/2006/documents/jbc-2003.zip...\n",
      "Downloading https://dmice.ohsu.edu/trec-gen/data/2006/documents/jbc-2004.zip...\n",
      "Downloading https://dmice.ohsu.edu/trec-gen/data/2006/documents/jbc-2005.zip...\n",
      "Downloading https://dmice.ohsu.edu/trec-gen/data/2006/documents/jcb.zip...\n",
      "Downloading https://dmice.ohsu.edu/trec-gen/data/2006/documents/jclinicalendometa.zip...\n",
      "Downloading https://dmice.ohsu.edu/trec-gen/data/2006/documents/jcs.zip...\n",
      "Downloading https://dmice.ohsu.edu/trec-gen/data/2006/documents/jexpbio.zip...\n",
      "Downloading https://dmice.ohsu.edu/trec-gen/data/2006/documents/jexpmed.zip...\n",
      "Downloading https://dmice.ohsu.edu/trec-gen/data/2006/documents/jgenphysio.zip...\n",
      "Downloading https://dmice.ohsu.edu/trec-gen/data/2006/documents/jgenviro.zip...\n",
      "Downloading https://dmice.ohsu.edu/trec-gen/data/2006/documents/jhistocyto.zip...\n",
      "Downloading https://dmice.ohsu.edu/trec-gen/data/2006/documents/jnci.zip...\n",
      "Downloading https://dmice.ohsu.edu/trec-gen/data/2006/documents/jneuro.zip...\n",
      "Downloading https://dmice.ohsu.edu/trec-gen/data/2006/documents/mcp.zip...\n",
      "Downloading https://dmice.ohsu.edu/trec-gen/data/2006/documents/microbio.zip...\n",
      "Downloading https://dmice.ohsu.edu/trec-gen/data/2006/documents/molbiolevol.zip...\n",
      "Downloading https://dmice.ohsu.edu/trec-gen/data/2006/documents/molendo.zip...\n",
      "Downloading https://dmice.ohsu.edu/trec-gen/data/2006/documents/molhumanrep.zip...\n",
      "Downloading https://dmice.ohsu.edu/trec-gen/data/2006/documents/nar.zip...\n",
      "Downloading https://dmice.ohsu.edu/trec-gen/data/2006/documents/nephrodiatransp.zip...\n",
      "Downloading https://dmice.ohsu.edu/trec-gen/data/2006/documents/peds.zip...\n",
      "Downloading https://dmice.ohsu.edu/trec-gen/data/2006/documents/physiogenomics.zip...\n",
      "Downloading https://dmice.ohsu.edu/trec-gen/data/2006/documents/rheumatolgy.zip...\n",
      "Downloading https://dmice.ohsu.edu/trec-gen/data/2006/documents/rna.zip...\n",
      "Downloading https://dmice.ohsu.edu/trec-gen/data/2006/documents/toxsci.zip...\n"
     ]
    }
   ],
   "source": [
    "# Create a directory to store the downloaded files\n",
    "directory = \"data\"\n",
    "if not os.path.exists(directory):\n",
    "    os.makedirs(directory)\n",
    "\n",
    "# Loop through each link and download the file\n",
    "for link in links:\n",
    "    href = link.get(\"href\")\n",
    "    if href.endswith(\".zip\"):\n",
    "        file_url = url + href\n",
    "        file_name = directory + \"/\" + href\n",
    "        print(f\"Downloading {file_url}...\")\n",
    "        file_response = requests.get(file_url)\n",
    "        with open(file_name, \"wb\") as f:\n",
    "            f.write(file_response.content)"
   ]
  },
  {
   "cell_type": "code",
   "execution_count": null,
   "id": "a24b1d94-320d-491a-a792-3b3b36cf1284",
   "metadata": {},
   "outputs": [],
   "source": []
  }
 ],
 "metadata": {
  "kernelspec": {
   "display_name": "Python 3 (ipykernel)",
   "language": "python",
   "name": "python3"
  },
  "language_info": {
   "codemirror_mode": {
    "name": "ipython",
    "version": 3
   },
   "file_extension": ".py",
   "mimetype": "text/x-python",
   "name": "python",
   "nbconvert_exporter": "python",
   "pygments_lexer": "ipython3",
   "version": "3.9.13"
  }
 },
 "nbformat": 4,
 "nbformat_minor": 5
}
