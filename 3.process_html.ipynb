{
 "cells": [
  {
   "cell_type": "code",
   "execution_count": 1,
   "metadata": {},
   "outputs": [
    {
     "name": "stderr",
     "output_type": "stream",
     "text": [
      "[nltk_data] Downloading package punkt to\n",
      "[nltk_data]     C:\\Users\\邵一泉\\AppData\\Roaming\\nltk_data...\n",
      "[nltk_data]   Package punkt is already up-to-date!\n",
      "[nltk_data] Downloading package stopwords to\n",
      "[nltk_data]     C:\\Users\\邵一泉\\AppData\\Roaming\\nltk_data...\n",
      "[nltk_data]   Package stopwords is already up-to-date!\n"
     ]
    }
   ],
   "source": [
    "import os\n",
    "import re\n",
    "import numpy as np\n",
    "import glob\n",
    "import pandas as pd\n",
    "from bs4 import BeautifulSoup\n",
    "from multiprocessing import Pool, cpu_count\n",
    "import nltk\n",
    "import string\n",
    "nltk.download('punkt')\n",
    "nltk.download('stopwords')\n",
    "from nltk.stem import PorterStemmer\n",
    "from nltk.tokenize import word_tokenize\n",
    "from nltk.corpus import stopwords\n",
    "from gensim.models import Word2Vec\n",
    "from sklearn.feature_extraction.text import CountVectorizer\n",
    "from sklearn.feature_extraction.text import TfidfTransformer\n",
    "from sklearn.metrics.pairwise import cosine_similarity\n",
    "from collections import defaultdict\n",
    "from tqdm.notebook import tqdm"
   ]
  },
  {
   "cell_type": "code",
   "execution_count": 2,
   "metadata": {},
   "outputs": [],
   "source": [
    "def process_html_files(input_dir, output_dir):\n",
    "    for dirpath, dirnames, filenames in tqdm(os.walk(input_dir)):\n",
    "        for filename in tqdm(filenames, leave=False):\n",
    "            if filename.endswith(\".html\"):\n",
    "                file_path = os.path.join(dirpath, filename)\n",
    "                with open(file_path, 'r', encoding='ISO-8859-1') as f:\n",
    "                    soup = BeautifulSoup(f.read(), 'html.parser')\n",
    "                    body = soup.find('body')\n",
    "                    if body is not None:\n",
    "                        data = body.get_text()\n",
    "\n",
    "                        # Remove punctuation\n",
    "                        data = re.sub('[!\\\"#$%&\\'()*+,-./:;<=>?@[\\]^_`{|}~0-9\\n]',' ',data)\n",
    "\n",
    "                        # Tokenize\n",
    "                        tokens = word_tokenize(data)\n",
    "\n",
    "                        # Lowercase\n",
    "                        tokens = [item.lower() for item in tokens]\n",
    "\n",
    "                        # Remove stop words\n",
    "                        stop_words = set(stopwords.words('english'))\n",
    "                        tokens = [word for word in tokens if not word in stop_words]\n",
    "\n",
    "                        # Stemming\n",
    "                        stem_porter = []\n",
    "                        porter = PorterStemmer()\n",
    "                        for word in tokens:\n",
    "                            stem_porter.append(porter.stem(word))\n",
    "\n",
    "                        # Save processed text to a new text file\n",
    "                        with open(os.path.join(output_dir, os.path.splitext(filename)[0] + '.txt'), 'w', encoding='utf-8', errors=\"ignore\") as f:\n",
    "                            f.write(' '.join(stem_porter))"
   ]
  },
  {
   "cell_type": "code",
   "execution_count": 3,
   "metadata": {
    "colab": {
     "base_uri": "https://localhost:8080/"
    },
    "id": "rsRAL0818L2b",
    "outputId": "93d08ee1-ab02-4e5d-b293-5ea06f740845"
   },
   "outputs": [
    {
     "data": {
      "application/vnd.jupyter.widget-view+json": {
       "model_id": "c6416d15263043d68d76ed7eb50566c2",
       "version_major": 2,
       "version_minor": 0
      },
      "text/plain": [
       "0it [00:00, ?it/s]"
      ]
     },
     "metadata": {},
     "output_type": "display_data"
    },
    {
     "data": {
      "application/vnd.jupyter.widget-view+json": {
       "model_id": "",
       "version_major": 2,
       "version_minor": 0
      },
      "text/plain": [
       "  0%|          | 0/162259 [00:00<?, ?it/s]"
      ]
     },
     "metadata": {},
     "output_type": "display_data"
    }
   ],
   "source": [
    "process_html_files('C:/Users/邵一泉/OneDrive - Queen Mary, University of London/Information/Assignment 3/data_html',\n",
    "                   'C:/Users/邵一泉/OneDrive - Queen Mary, University of London/Information/Assignment 3/Preprocessed_dataset')"
   ]
  }
 ],
 "metadata": {
  "colab": {
   "provenance": []
  },
  "kernelspec": {
   "display_name": "Python 3 (ipykernel)",
   "language": "python",
   "name": "python3"
  },
  "language_info": {
   "codemirror_mode": {
    "name": "ipython",
    "version": 3
   },
   "file_extension": ".py",
   "mimetype": "text/x-python",
   "name": "python",
   "nbconvert_exporter": "python",
   "pygments_lexer": "ipython3",
   "version": "3.9.13"
  }
 },
 "nbformat": 4,
 "nbformat_minor": 4
}
