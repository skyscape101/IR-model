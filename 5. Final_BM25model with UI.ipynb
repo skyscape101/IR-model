{
 "cells": [
  {
   "cell_type": "code",
   "execution_count": 1,
   "id": "b77c7b6a-57f8-450c-ae19-f481ec5afe2c",
   "metadata": {},
   "outputs": [],
   "source": [
    "import os\n",
    "from tqdm.notebook import tqdm\n",
    "from joblib import Parallel, delayed"
   ]
  },
  {
   "cell_type": "code",
   "execution_count": 2,
   "id": "f1673314-4b85-4633-b50b-90498b26e0aa",
   "metadata": {
    "tags": []
   },
   "outputs": [
    {
     "data": {
      "application/vnd.jupyter.widget-view+json": {
       "model_id": "d8ba67e3657046e180e6dab90f64dce0",
       "version_major": 2,
       "version_minor": 0
      },
      "text/plain": [
       "Loading documents:   0%|          | 0/20519 [00:00<?, ?it/s]"
      ]
     },
     "metadata": {},
     "output_type": "display_data"
    },
    {
     "name": "stderr",
     "output_type": "stream",
     "text": [
      "[Parallel(n_jobs=-1)]: Using backend LokyBackend with 20 concurrent workers.\n",
      "[Parallel(n_jobs=-1)]: Done   1 tasks      | elapsed:    1.2s\n",
      "[Parallel(n_jobs=-1)]: Done  10 tasks      | elapsed:    1.3s\n",
      "[Parallel(n_jobs=-1)]: Done  21 tasks      | elapsed:    1.3s\n",
      "[Parallel(n_jobs=-1)]: Done  32 tasks      | elapsed:    1.3s\n",
      "[Parallel(n_jobs=-1)]: Done  45 tasks      | elapsed:    1.3s\n",
      "[Parallel(n_jobs=-1)]: Batch computation too fast (0.1944s.) Setting batch_size=2.\n",
      "[Parallel(n_jobs=-1)]: Done  58 tasks      | elapsed:    1.3s\n",
      "[Parallel(n_jobs=-1)]: Done  73 tasks      | elapsed:    1.3s\n",
      "[Parallel(n_jobs=-1)]: Done  88 tasks      | elapsed:    1.3s\n",
      "[Parallel(n_jobs=-1)]: Batch computation too fast (0.0317s.) Setting batch_size=4.\n",
      "[Parallel(n_jobs=-1)]: Done 110 tasks      | elapsed:    1.3s\n",
      "[Parallel(n_jobs=-1)]: Done 144 tasks      | elapsed:    1.3s\n",
      "[Parallel(n_jobs=-1)]: Done 184 tasks      | elapsed:    1.4s\n",
      "[Parallel(n_jobs=-1)]: Batch computation too fast (0.0309s.) Setting batch_size=8.\n",
      "[Parallel(n_jobs=-1)]: Done 260 tasks      | elapsed:    1.4s\n",
      "[Parallel(n_jobs=-1)]: Done 348 tasks      | elapsed:    1.4s\n",
      "[Parallel(n_jobs=-1)]: Batch computation too fast (0.0161s.) Setting batch_size=16.\n",
      "[Parallel(n_jobs=-1)]: Done 516 tasks      | elapsed:    1.4s\n",
      "[Parallel(n_jobs=-1)]: Batch computation too fast (0.0321s.) Setting batch_size=32.\n",
      "[Parallel(n_jobs=-1)]: Done 740 tasks      | elapsed:    1.4s\n",
      "[Parallel(n_jobs=-1)]: Done 1108 tasks      | elapsed:    1.4s\n",
      "[Parallel(n_jobs=-1)]: Batch computation too fast (0.0519s.) Setting batch_size=64.\n",
      "[Parallel(n_jobs=-1)]: Done 1716 tasks      | elapsed:    1.5s\n",
      "[Parallel(n_jobs=-1)]: Done 2516 tasks      | elapsed:    1.5s\n",
      "[Parallel(n_jobs=-1)]: Batch computation too fast (0.0649s.) Setting batch_size=128.\n",
      "[Parallel(n_jobs=-1)]: Done 4180 tasks      | elapsed:    1.6s\n",
      "[Parallel(n_jobs=-1)]: Batch computation too fast (0.1433s.) Setting batch_size=256.\n",
      "[Parallel(n_jobs=-1)]: Done 6676 tasks      | elapsed:    1.7s\n",
      "[Parallel(n_jobs=-1)]: Done 10516 tasks      | elapsed:    1.9s\n",
      "[Parallel(n_jobs=-1)]: Done 20519 out of 20519 | elapsed:    4.3s finished\n"
     ]
    }
   ],
   "source": [
    "#read txt files to list\n",
    "directory = \"C:/Users/邵一泉/OneDrive - Queen Mary, University of London/Information/Assignment 3/small_dataset/half_preprocessed_dataset\"\n",
    "\n",
    "def load_document(filename):\n",
    "    with open(filename, \"r\", encoding=\"utf-8\", errors=\"ignore\") as f:\n",
    "        doc = f.read()  # Read text file\n",
    "        doc_id = os.path.splitext(os.path.basename(filename))[0]  # Get filename without extension\n",
    "        return doc_id, doc\n",
    "\n",
    "files = [os.path.join(directory, f) for f in os.listdir(directory) if f.endswith(\".txt\")]\n",
    "results = Parallel(n_jobs=-1, verbose=10)(\n",
    "    delayed(load_document)(f) for f in tqdm(files, desc=\"Loading documents\")\n",
    ")\n",
    "\n",
    "doc_ids, docs = zip(*results)"
   ]
  },
  {
   "cell_type": "code",
   "execution_count": 3,
   "id": "9adf54c5-7fcd-4633-85b1-5be9c8deeef9",
   "metadata": {},
   "outputs": [],
   "source": [
    "from rank_bm25 import BM25Okapi\n",
    "# Create BM25 model\n",
    "bm25 = BM25Okapi([doc.split() for doc in docs] )"
   ]
  },
  {
   "cell_type": "code",
   "execution_count": 4,
   "id": "b0c0cfab-7194-4ec2-a3ad-07276f980fb9",
   "metadata": {},
   "outputs": [
    {
     "data": {
      "text/html": [
       "<div>\n",
       "<style scoped>\n",
       "    .dataframe tbody tr th:only-of-type {\n",
       "        vertical-align: middle;\n",
       "    }\n",
       "\n",
       "    .dataframe tbody tr th {\n",
       "        vertical-align: top;\n",
       "    }\n",
       "\n",
       "    .dataframe thead th {\n",
       "        text-align: right;\n",
       "    }\n",
       "</style>\n",
       "<table border=\"1\" class=\"dataframe\">\n",
       "  <thead>\n",
       "    <tr style=\"text-align: right;\">\n",
       "      <th></th>\n",
       "      <th>TOPIC</th>\n",
       "      <th>PMID</th>\n",
       "      <th>OFFSET</th>\n",
       "      <th>LENGTH</th>\n",
       "      <th>RELEVANCE</th>\n",
       "      <th>QUERY</th>\n",
       "    </tr>\n",
       "  </thead>\n",
       "  <tbody>\n",
       "    <tr>\n",
       "      <th>0</th>\n",
       "      <td>200</td>\n",
       "      <td>7493960</td>\n",
       "      <td>39964</td>\n",
       "      <td>2283</td>\n",
       "      <td>0</td>\n",
       "      <td>What serum [PROTEINS] change expression in ass...</td>\n",
       "    </tr>\n",
       "    <tr>\n",
       "      <th>1</th>\n",
       "      <td>200</td>\n",
       "      <td>7657648</td>\n",
       "      <td>17646</td>\n",
       "      <td>1004</td>\n",
       "      <td>0</td>\n",
       "      <td>What serum [PROTEINS] change expression in ass...</td>\n",
       "    </tr>\n",
       "    <tr>\n",
       "      <th>2</th>\n",
       "      <td>200</td>\n",
       "      <td>7713924</td>\n",
       "      <td>19475</td>\n",
       "      <td>2376</td>\n",
       "      <td>0</td>\n",
       "      <td>What serum [PROTEINS] change expression in ass...</td>\n",
       "    </tr>\n",
       "    <tr>\n",
       "      <th>3</th>\n",
       "      <td>200</td>\n",
       "      <td>8557639</td>\n",
       "      <td>3092</td>\n",
       "      <td>1488</td>\n",
       "      <td>0</td>\n",
       "      <td>What serum [PROTEINS] change expression in ass...</td>\n",
       "    </tr>\n",
       "    <tr>\n",
       "      <th>4</th>\n",
       "      <td>200</td>\n",
       "      <td>8621728</td>\n",
       "      <td>17314</td>\n",
       "      <td>1683</td>\n",
       "      <td>0</td>\n",
       "      <td>What serum [PROTEINS] change expression in ass...</td>\n",
       "    </tr>\n",
       "    <tr>\n",
       "      <th>...</th>\n",
       "      <td>...</td>\n",
       "      <td>...</td>\n",
       "      <td>...</td>\n",
       "      <td>...</td>\n",
       "      <td>...</td>\n",
       "      <td>...</td>\n",
       "    </tr>\n",
       "    <tr>\n",
       "      <th>35991</th>\n",
       "      <td>235</td>\n",
       "      <td>16275766</td>\n",
       "      <td>76498</td>\n",
       "      <td>41890</td>\n",
       "      <td>0</td>\n",
       "      <td>Which [GENES] involved in NFkappaB signaling r...</td>\n",
       "    </tr>\n",
       "    <tr>\n",
       "      <th>35992</th>\n",
       "      <td>235</td>\n",
       "      <td>16291660</td>\n",
       "      <td>8048</td>\n",
       "      <td>1214</td>\n",
       "      <td>0</td>\n",
       "      <td>Which [GENES] involved in NFkappaB signaling r...</td>\n",
       "    </tr>\n",
       "    <tr>\n",
       "      <th>35993</th>\n",
       "      <td>235</td>\n",
       "      <td>16314491</td>\n",
       "      <td>95642</td>\n",
       "      <td>458</td>\n",
       "      <td>0</td>\n",
       "      <td>Which [GENES] involved in NFkappaB signaling r...</td>\n",
       "    </tr>\n",
       "    <tr>\n",
       "      <th>35994</th>\n",
       "      <td>235</td>\n",
       "      <td>16339966</td>\n",
       "      <td>110929</td>\n",
       "      <td>344</td>\n",
       "      <td>0</td>\n",
       "      <td>Which [GENES] involved in NFkappaB signaling r...</td>\n",
       "    </tr>\n",
       "    <tr>\n",
       "      <th>35995</th>\n",
       "      <td>235</td>\n",
       "      <td>16339966</td>\n",
       "      <td>117520</td>\n",
       "      <td>519</td>\n",
       "      <td>0</td>\n",
       "      <td>Which [GENES] involved in NFkappaB signaling r...</td>\n",
       "    </tr>\n",
       "  </tbody>\n",
       "</table>\n",
       "<p>35996 rows × 6 columns</p>\n",
       "</div>"
      ],
      "text/plain": [
       "       TOPIC      PMID  OFFSET  LENGTH  RELEVANCE  \\\n",
       "0        200   7493960   39964    2283          0   \n",
       "1        200   7657648   17646    1004          0   \n",
       "2        200   7713924   19475    2376          0   \n",
       "3        200   8557639    3092    1488          0   \n",
       "4        200   8621728   17314    1683          0   \n",
       "...      ...       ...     ...     ...        ...   \n",
       "35991    235  16275766   76498   41890          0   \n",
       "35992    235  16291660    8048    1214          0   \n",
       "35993    235  16314491   95642     458          0   \n",
       "35994    235  16339966  110929     344          0   \n",
       "35995    235  16339966  117520     519          0   \n",
       "\n",
       "                                                   QUERY  \n",
       "0      What serum [PROTEINS] change expression in ass...  \n",
       "1      What serum [PROTEINS] change expression in ass...  \n",
       "2      What serum [PROTEINS] change expression in ass...  \n",
       "3      What serum [PROTEINS] change expression in ass...  \n",
       "4      What serum [PROTEINS] change expression in ass...  \n",
       "...                                                  ...  \n",
       "35991  Which [GENES] involved in NFkappaB signaling r...  \n",
       "35992  Which [GENES] involved in NFkappaB signaling r...  \n",
       "35993  Which [GENES] involved in NFkappaB signaling r...  \n",
       "35994  Which [GENES] involved in NFkappaB signaling r...  \n",
       "35995  Which [GENES] involved in NFkappaB signaling r...  \n",
       "\n",
       "[35996 rows x 6 columns]"
      ]
     },
     "execution_count": 4,
     "metadata": {},
     "output_type": "execute_result"
    }
   ],
   "source": [
    "import pandas as pd\n",
    "# Read the txt file into a DataFrame\n",
    "df_rel = pd.read_csv('C:/Users/邵一泉/OneDrive - Queen Mary, University of London/Information/Assignment 3/trecgen2007.all.judgments.tsv.txt', \n",
    "                     sep='\\t', header=6, names=['TOPIC', 'PMID', 'OFFSET', 'LENGTH', 'RELEVANCE'])\n",
    "df_rel['RELEVANCE'] = df_rel['RELEVANCE'].replace({'NOT_RELEVANT': 0, 'RELEVANT': 1})\n",
    "# Read the file into a list of strings\n",
    "with open('C:/Users/邵一泉/OneDrive - Queen Mary, University of London/Information/Assignment 3/2007topics.txt', 'r') as f:\n",
    "    lines = f.read().splitlines()\n",
    "\n",
    "# Create a list of dictionaries with the question data\n",
    "data = []\n",
    "for line in lines:\n",
    "    q_num, q_text = line.split('>', maxsplit=1)\n",
    "    q_num = int(q_num[1:])\n",
    "    data.append({\n",
    "        'TOPIC': q_num,\n",
    "        'QUERY': q_text,\n",
    "    })\n",
    "\n",
    "# Create a DataFrame from the list of dictionaries\n",
    "df_topic = pd.DataFrame(data)\n",
    "df = pd.merge(df_rel, df_topic, on='TOPIC')\n",
    "df"
   ]
  },
  {
   "cell_type": "code",
   "execution_count": 5,
   "id": "9aa771f2-55c3-489e-956d-dd8a5c0728e0",
   "metadata": {},
   "outputs": [],
   "source": [
    "queries = df['QUERY'].unique()"
   ]
  },
  {
   "cell_type": "code",
   "execution_count": 6,
   "id": "3f232ad7-65e6-45d7-9fec-3a98afe96bce",
   "metadata": {},
   "outputs": [
    {
     "data": {
      "text/plain": [
       "'What serum [PROTEINS] change expression in association with high disease activity in lupus?'"
      ]
     },
     "execution_count": 6,
     "metadata": {},
     "output_type": "execute_result"
    }
   ],
   "source": [
    "queries[0]"
   ]
  },
  {
   "cell_type": "code",
   "execution_count": 7,
   "id": "a19c6448-2667-47f2-a521-9d42982a3537",
   "metadata": {},
   "outputs": [
    {
     "name": "stderr",
     "output_type": "stream",
     "text": [
      "[nltk_data] Downloading package stopwords to\n",
      "[nltk_data]     C:\\Users\\邵一泉\\AppData\\Roaming\\nltk_data...\n",
      "[nltk_data]   Package stopwords is already up-to-date!\n"
     ]
    }
   ],
   "source": [
    "import nltk\n",
    "nltk.download(\"stopwords\")\n",
    "stop_words = nltk.corpus.stopwords.words(\"english\")\n",
    "tokenizer = nltk.tokenize.RegexpTokenizer(r\"\\w+\")\n",
    "stemmer = nltk.stem.PorterStemmer()\n",
    "import html"
   ]
  },
  {
   "cell_type": "code",
   "execution_count": 8,
   "id": "5aaf7e56-33ef-4f52-a088-375fcdd94dab",
   "metadata": {},
   "outputs": [],
   "source": [
    "#define a query function\n",
    "def query(query, k=5):\n",
    "    query = html.unescape(query)  # Decode HTML entities\n",
    "    preprocessed_query = [stemmer.stem(token) for token in tokenizer.tokenize(query.lower()) if token not in stop_words]\n",
    "    doc_scores = bm25.get_scores(preprocessed_query)\n",
    "\n",
    "    # Get top-k similar documents\n",
    "    index = []\n",
    "    top_k_doc_indices = sorted(range(len(doc_scores)), key=lambda i: doc_scores[i], reverse=True)[:k]\n",
    "    for i, doc_index in enumerate(top_k_doc_indices):\n",
    "        index.append(int(doc_ids[doc_index]))\n",
    "    return index"
   ]
  },
  {
   "cell_type": "code",
   "execution_count": 9,
   "id": "04be674f-984c-4084-b873-61e10e115be5",
   "metadata": {},
   "outputs": [
    {
     "data": {
      "text/plain": [
       "[12595613, 12642605, 12456587, 12154204, 12730535]"
      ]
     },
     "execution_count": 9,
     "metadata": {},
     "output_type": "execute_result"
    }
   ],
   "source": [
    "query(queries[0])"
   ]
  },
  {
   "cell_type": "code",
   "execution_count": 10,
   "id": "2ea992eb-e457-4d26-8ed6-591d0ba406c4",
   "metadata": {},
   "outputs": [
    {
     "name": "stdout",
     "output_type": "stream",
     "text": [
      "Mean Average Precision (MAP) score for the query function: 0.7952\n"
     ]
    }
   ],
   "source": [
    "import numpy as np\n",
    "#define evaluation function(MAP) caculate the average score of all queries\n",
    "def evaluate_query(query_func, df, k=5):\n",
    "    aps = []\n",
    "    for query in df['QUERY'].unique():\n",
    "        relevant_docs = set(df.loc[(df['QUERY'] == query) & (df['RELEVANCE'] == 1), 'PMID'])\n",
    "        retrieved_docs = query_func(query, k)\n",
    "        p_at_k = []\n",
    "        for i, doc_id in enumerate(retrieved_docs):\n",
    "            if doc_id in relevant_docs:\n",
    "                p_at_k.append((len(p_at_k) + 1) / (i + 1))\n",
    "        if len(p_at_k) > 0:\n",
    "            aps.append(np.mean(p_at_k))\n",
    "    return np.mean(aps)\n",
    "\n",
    "map_score = evaluate_query(query, df)\n",
    "print(f\"Mean Average Precision (MAP) score for the query function: {map_score:.4f}\")"
   ]
  },
  {
   "cell_type": "code",
   "execution_count": 11,
   "id": "270fbb91-1101-46ab-9040-1a078c79f4ff",
   "metadata": {},
   "outputs": [
    {
     "name": "stdout",
     "output_type": "stream",
     "text": [
      "Normalized Discounted Cumulative Gain (NDCG) score for the query function: 0.5481\n"
     ]
    }
   ],
   "source": [
    "#define evaluation function(NDCG) caculate the average score of all queries\n",
    "def dcg(relevances, k):\n",
    "    \"\"\"Compute the Discounted Cumulative Gain (DCG) at k.\"\"\"\n",
    "    discounts = np.log2(np.arange(2, k + 2))\n",
    "    return np.sum(relevances[:k] / discounts)\n",
    "\n",
    "def ndcg(query_func, df, k=5):\n",
    "    ndcg_scores = []\n",
    "    for query in df['QUERY'].unique():\n",
    "        relevant_docs = set(df.loc[(df['QUERY'] == query) & (df['RELEVANCE'] == 1), 'PMID'])\n",
    "        retrieved_docs = query_func(query, k)\n",
    "        relevances = [1 if doc_id in relevant_docs else 0 for doc_id in retrieved_docs]\n",
    "        idcg = dcg(sorted(relevances, reverse=True), k)\n",
    "        if idcg == 0:\n",
    "            ndcg_scores.append(0)\n",
    "        else:\n",
    "            ndcg_scores.append(dcg(relevances, k) / idcg)\n",
    "    return np.nanmean(ndcg_scores)\n",
    "\n",
    "ndcg_score = ndcg(query, df)\n",
    "print(f\"Normalized Discounted Cumulative Gain (NDCG) score for the query function: {ndcg_score:.4f}\")"
   ]
  },
  {
   "cell_type": "code",
   "execution_count": 12,
   "id": "51ecfc08-3b4d-4fa0-9f54-320f8d6280b5",
   "metadata": {},
   "outputs": [],
   "source": [
    "#define evaluation function(NDCG) caculate the each score of all queries\n",
    "def ndcg(query_func, df, k=5):\n",
    "    ndcg_scores = {}\n",
    "    for query in df['QUERY'].unique():\n",
    "        relevant_docs = set(df.loc[(df['QUERY'] == query) & (df['RELEVANCE'] == 1), 'PMID'])\n",
    "        retrieved_docs = query_func(query, k)\n",
    "        relevances = [1 if doc_id in relevant_docs else 0 for doc_id in retrieved_docs]\n",
    "        idcg = dcg(sorted(relevances, reverse=True), k)\n",
    "        if idcg == 0:\n",
    "            ndcg_scores[query] = 0\n",
    "        else:\n",
    "            ndcg_scores[query] = dcg(relevances, k) / idcg\n",
    "    return ndcg_scores"
   ]
  },
  {
   "cell_type": "code",
   "execution_count": 13,
   "id": "d266ef20-2c11-4621-bf3f-bf0c644d313f",
   "metadata": {},
   "outputs": [
    {
     "name": "stdout",
     "output_type": "stream",
     "text": [
      "NDCG score for query 'What serum [PROTEINS] change expression in association with high disease activity in lupus?': 0.9829\n",
      "NDCG score for query 'What [MUTATIONS] in the Raf gene are associated with cancer?': 1.0000\n",
      "NDCG score for query 'What [DRUGS] are associated with lysosomal abnormalities in the nervous system?': 0.0000\n",
      "NDCG score for query 'What [CELL OR TISSUE TYPES] express receptor binding sites for vasoactive intestinal peptide (VIP) on their cell surface?': 1.0000\n",
      "NDCG score for query 'What nervous system [CELL OR TISSUE TYPES] synthesize neurosteroids in the brain?': 1.0000\n",
      "NDCG score for query 'What [SIGNS OR SYMPTOMS] of anxiety disorder are related to coronary artery disease?': 0.9197\n",
      "NDCG score for query 'What [TOXICITIES] are associated with zoledronic acid?': 1.0000\n",
      "NDCG score for query 'What [TOXICITIES] are associated with etidronate?': 0.0000\n",
      "NDCG score for query 'What [BIOLOGICAL SUBSTANCES] have been used to measure toxicity in response to zoledronic acid?': 0.8503\n",
      "NDCG score for query 'What [BIOLOGICAL SUBSTANCES] have been used to measure toxicity in response to etidronate?': 0.6509\n",
      "NDCG score for query 'What [MOLECULAR FUNCTIONS] are attributed to glycan modification?': 0.5000\n",
      "NDCG score for query 'What [ANTIBODIES] have been used to detect protein PSD-95?': 1.0000\n",
      "NDCG score for query 'What [GENES] are involved in insect segmentation?': 1.0000\n",
      "NDCG score for query 'What [GENES] are involved in Drosophila neuroblast development?': 1.0000\n",
      "NDCG score for query 'What [GENES] are involved axon guidance in C.elegans?': 1.0000\n",
      "NDCG score for query 'What [PROTEINS] are involved in actin polymerization in smooth muscle?': 0.6934\n",
      "NDCG score for query 'What [GENES] regulate puberty in humans?': 0.0000\n",
      "NDCG score for query 'What [PROTEINS] in rats perform functions different from those of their human homologs?': 0.0000\n",
      "NDCG score for query 'What [GENES] are implicated in regulating alcohol preference?': 1.0000\n",
      "NDCG score for query 'In what [DISEASES] of brain development do centrosomal genes play a role?': 0.0000\n",
      "NDCG score for query 'What [PROTEINS] are involved in the activation or recognition mechanism for PmrD?': 0.0000\n",
      "NDCG score for query 'Which [PATHWAYS] are mediated by CD44?': 0.0000\n",
      "NDCG score for query 'What [MOLECULAR FUNCTIONS] is LITAF involved in?': 0.5000\n",
      "NDCG score for query 'Which anaerobic bacterial [STRAINS] are resistant to Vancomycin?': 0.6309\n",
      "NDCG score for query 'What [GENES] are involved in the melanogenesis of human lung cancers?': 0.0000\n",
      "NDCG score for query 'What [BIOLOGICAL SUBSTANCES] induce clpQ expression?': 0.0000\n",
      "NDCG score for query 'What [PROTEINS] make up the murine signal recognition particle?': 0.0000\n",
      "NDCG score for query 'What [GENES] are induced by LPS in diabetic mice?': 0.0000\n",
      "NDCG score for query 'What [GENES] when altered in the host genome improve solubility of heterologously expressed proteins?': 0.0000\n",
      "NDCG score for query 'What [SIGNS OR SYMPTOMS] are caused by human parvovirus infection?': 1.0000\n",
      "NDCG score for query 'What [PATHWAYS] are involved in Ewing's sarcoma?': 0.9060\n",
      "NDCG score for query 'What [TUMOR TYPES] are found in zebrafish?': 1.0000\n",
      "NDCG score for query 'What [DRUGS] inhibit HIV type 1 infection?': 0.5000\n",
      "NDCG score for query 'What viral [GENES] affect membrane fusion during HIV infection?': 0.0000\n",
      "NDCG score for query 'What [GENES] make up the NFkappaB signaling pathway?': 0.9675\n",
      "NDCG score for query 'Which [GENES] involved in NFkappaB signaling regulate iNOS?': 0.6309\n"
     ]
    }
   ],
   "source": [
    "#print the each score of all queries\n",
    "ndcg_scores = ndcg(query, df)\n",
    "for query, ndcg_score in ndcg_scores.items():\n",
    "    print(f\"NDCG score for query '{query}': {ndcg_score:.4f}\")"
   ]
  },
  {
   "cell_type": "code",
   "execution_count": 15,
   "id": "66fbc553-40fc-4d5f-9143-2951977d4b38",
   "metadata": {},
   "outputs": [],
   "source": [
    "import tkinter as tk\n",
    "from tkinter import scrolledtext\n",
    "from functools import partial\n",
    "import html\n",
    "\n",
    "# Define the query function\n",
    "def query(query, k=5):\n",
    "    query = html.unescape(query)  # Decode HTML entities\n",
    "    preprocessed_query = [stemmer.stem(token) for token in tokenizer.tokenize(query.lower()) if token not in stop_words]\n",
    "    doc_scores = bm25.get_scores(preprocessed_query)\n",
    "\n",
    "    # Get top-k similar documents\n",
    "    index = []\n",
    "    top_k_doc_indices = sorted(range(len(doc_scores)), key=lambda i: doc_scores[i], reverse=True)[:k]\n",
    "    for i, doc_index in enumerate(top_k_doc_indices):\n",
    "        index.append(int(doc_ids[doc_index]))\n",
    "    return index\n",
    "\n",
    "# Initialize Tkinter window（UI)\n",
    "window = tk.Tk()\n",
    "window.title(\"Group 10 - search engine\")\n",
    "\n",
    "# Define query function to handle user input\n",
    "def handle_query(query_entry, result_text):\n",
    "    # Call the query function with user's query and default k value of 5\n",
    "    results = query(query_entry.get())\n",
    "    \n",
    "    # Display the top k results in the result_text widget\n",
    "    result_text.delete('1.0', tk.END)\n",
    "    for i, result in enumerate(results):\n",
    "        result_text.insert(tk.END, f\"{i+1}. Document {result}\\n\")\n",
    "        \n",
    "# Create widgets for the search engine UI\n",
    "query_label = tk.Label(window, text=\"Enter your query:\")\n",
    "query_entry = tk.Entry(window, width=50)\n",
    "result_text = scrolledtext.ScrolledText(window, width=80, height=20)\n",
    "query_button = tk.Button(window, text=\"Search\", command=partial(handle_query, query_entry, result_text))\n",
    "\n",
    "# Pack the widgets into the window\n",
    "query_label.pack()\n",
    "query_entry.pack()\n",
    "query_button.pack()\n",
    "result_text.pack()\n",
    "\n",
    "# Run the Tkinter event loop\n",
    "window.mainloop()"
   ]
  }
 ],
 "metadata": {
  "kernelspec": {
   "display_name": "Python 3 (ipykernel)",
   "language": "python",
   "name": "python3"
  },
  "language_info": {
   "codemirror_mode": {
    "name": "ipython",
    "version": 3
   },
   "file_extension": ".py",
   "mimetype": "text/x-python",
   "name": "python",
   "nbconvert_exporter": "python",
   "pygments_lexer": "ipython3",
   "version": "3.9.13"
  }
 },
 "nbformat": 4,
 "nbformat_minor": 5
}
