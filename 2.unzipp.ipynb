{
 "cells": [
  {
   "cell_type": "code",
   "execution_count": 1,
   "id": "bf68bb46-7fc8-481f-801a-072761190952",
   "metadata": {},
   "outputs": [
    {
     "name": "stdout",
     "output_type": "stream",
     "text": [
      "Defaulting to user installation because normal site-packages is not writeableNote: you may need to restart the kernel to use updated packages.\n",
      "\n",
      "Requirement already satisfied: pathlib in c:\\programdata\\anaconda3\\lib\\site-packages (1.0.1)\n"
     ]
    }
   ],
   "source": [
    "pip install pathlib"
   ]
  },
  {
   "cell_type": "code",
   "execution_count": 2,
   "id": "58a95e9c-08ca-44df-a002-4f593093ac5b",
   "metadata": {},
   "outputs": [
    {
     "name": "stdout",
     "output_type": "stream",
     "text": [
      "All files from .zip archives have been extracted to the root of C:/Users/邵一泉/OneDrive - Queen Mary, University of London/Information/Assignment 3/data_html\n"
     ]
    }
   ],
   "source": [
    "import zipfile\n",
    "import shutil\n",
    "from pathlib import Path\n",
    "\n",
    "input_directory = \"C:/Users/邵一泉/OneDrive - Queen Mary, University of London/Information/Assignment 3/data\"\n",
    "output_directory = \"C:/Users/邵一泉/OneDrive - Queen Mary, University of London/Information/Assignment 3/data_html\"\n",
    "\n",
    "input_path = Path(input_directory)\n",
    "output_path = Path(output_directory)\n",
    "\n",
    "if not output_path.exists():\n",
    "    output_path.mkdir(parents=True)\n",
    "\n",
    "for zip_file in input_path.glob(\"*.zip\"):\n",
    "    with zipfile.ZipFile(zip_file, \"r\") as z:\n",
    "        for member in z.infolist():\n",
    "            if not member.is_dir():\n",
    "                file_name = Path(member.filename).name\n",
    "                with z.open(member, \"r\") as source, open(output_path / file_name, \"wb\") as target:\n",
    "                    shutil.copyfileobj(source, target)\n",
    "\n",
    "print(\"All files from .zip archives have been extracted to the root of\", output_directory)"
   ]
  },
  {
   "cell_type": "code",
   "execution_count": null,
   "id": "3e6ebad3-b0a3-42c1-97de-1d03c16e51f6",
   "metadata": {},
   "outputs": [],
   "source": []
  }
 ],
 "metadata": {
  "kernelspec": {
   "display_name": "Python 3 (ipykernel)",
   "language": "python",
   "name": "python3"
  },
  "language_info": {
   "codemirror_mode": {
    "name": "ipython",
    "version": 3
   },
   "file_extension": ".py",
   "mimetype": "text/x-python",
   "name": "python",
   "nbconvert_exporter": "python",
   "pygments_lexer": "ipython3",
   "version": "3.9.13"
  }
 },
 "nbformat": 4,
 "nbformat_minor": 5
}
